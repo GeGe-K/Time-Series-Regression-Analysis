version https://git-lfs.github.com/spec/v1
oid sha256:52ce01b73803b609f7ef3328f283c104793326d7b9530c9d27ab7e33a3140b1a
size 1660553
