version https://git-lfs.github.com/spec/v1
oid sha256:fd531671fec56550e2aa4fae88e1932a4857b20b2d923f8cde6aa6d215ab2b9e
size 2603720
