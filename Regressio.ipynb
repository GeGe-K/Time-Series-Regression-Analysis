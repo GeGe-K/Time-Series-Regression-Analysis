version https://git-lfs.github.com/spec/v1
oid sha256:cc24ddf6e819389b53a7e72db7a0f06539d659a2f7ea8fa740fb592e28059983
size 500716
